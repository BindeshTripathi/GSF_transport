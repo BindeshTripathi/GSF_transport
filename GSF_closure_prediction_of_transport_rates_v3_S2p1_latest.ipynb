{
 "cells": [
  {
   "cell_type": "code",
   "execution_count": 1,
   "id": "6519554b-8672-4606-a19a-3bd1fcecaad1",
   "metadata": {},
   "outputs": [],
   "source": [
    "from scipy import linalg\n",
    "import numpy as np\n",
    "import matplotlib.pyplot as plt\n",
    "from matplotlib.animation import FuncAnimation\n",
    "import h5py\n",
    "import time\n",
    "plt.style.use('ggplot')\n",
    "%matplotlib inline\n",
    "\n",
    "from scipy.interpolate import interp2d\n"
   ]
  },
  {
   "cell_type": "code",
   "execution_count": 181,
   "id": "04e60db3-2fac-4e8c-9d1d-ad3c89aa9bdd",
   "metadata": {},
   "outputs": [],
   "source": [
    "Pr = 0.01\n",
    "S = 2.1 #for low shear cases, take 'L2_norm'. For high shear cases, take 'last_element_unity' normalization\n",
    "Nsqrd = 2\n",
    "Omega = 1\n"
   ]
  },
  {
   "cell_type": "code",
   "execution_count": 182,
   "id": "05cea397-2d40-487c-8626-05d283dbd052",
   "metadata": {},
   "outputs": [],
   "source": [
    "Lx = 100.0\n",
    "Lz = 100.0\n",
    "nx = 256\n",
    "nz = 256"
   ]
  },
  {
   "cell_type": "code",
   "execution_count": 183,
   "id": "ca42eb78-441e-4111-bedb-7c4f5c7d9480",
   "metadata": {},
   "outputs": [],
   "source": [
    "kappa = np.sqrt(Nsqrd/Pr) #This is because the box size is measured in units of d = (nu*kappa/Nsqrd)^(1/4), see Eq. (5) in https://arxiv.org/pdf/1905.06962.pdf.\n",
    "nu = kappa*Pr\n",
    "d = - (2*Omega - S)\n",
    "e = - Nsqrd"
   ]
  },
  {
   "cell_type": "code",
   "execution_count": 184,
   "id": "09c21d54-6634-425e-ae88-7666bd139bf8",
   "metadata": {},
   "outputs": [
    {
     "data": {
      "text/plain": [
       "1.4509525002200232"
      ]
     },
     "execution_count": 184,
     "metadata": {},
     "output_type": "execute_result"
    }
   ],
   "source": [
    "kappa"
   ]
  },
  {
   "cell_type": "code",
   "execution_count": 185,
   "id": "f64a26b0-9b1a-4c03-95a8-8f84a29c90d7",
   "metadata": {},
   "outputs": [
    {
     "data": {
      "text/plain": [
       "1.3784048752090219"
      ]
     },
     "execution_count": 185,
     "metadata": {},
     "output_type": "execute_result"
    }
   ],
   "source": [
    "nu"
   ]
  },
  {
   "cell_type": "code",
   "execution_count": 186,
   "id": "b094a6fa-21ce-41bf-916f-27b92880d3ae",
   "metadata": {},
   "outputs": [
    {
     "data": {
      "text/plain": [
       "-0.0"
      ]
     },
     "execution_count": 186,
     "metadata": {},
     "output_type": "execute_result"
    }
   ],
   "source": [
    "little_r = (1+ Nsqrd/( (2*Omega - S)*2 )) * (Pr/(Pr-1))\n",
    "little_r"
   ]
  },
  {
   "cell_type": "markdown",
   "id": "613f16f7-aa66-4893-907d-5ebec5b648ac",
   "metadata": {},
   "source": [
    "For low shear cases, take 'L2_norm'. \n",
    "\n",
    "For high shear cases, take 'last_element_unity' normalization"
   ]
  },
  {
   "cell_type": "code",
   "execution_count": 187,
   "id": "a03d5e13-b44b-48eb-ab2a-af411e606901",
   "metadata": {},
   "outputs": [],
   "source": [
    "#normalization_type='energy_norm' #Options are 'energy_norm', 'last_element_unity' and 'L2_norm'\n",
    "normalization_type='L2_norm'\n",
    "\n",
    "#normalization_type='first_element_unity'\n",
    "#normalization_type='second_element_unity'\n",
    "#normalization_type='third_element_unity'\n",
    "#normalization_type='last_element_unity'\n"
   ]
  },
  {
   "cell_type": "code",
   "execution_count": 188,
   "id": "4406f5db-1a52-4684-be5a-45e246f53cfd",
   "metadata": {},
   "outputs": [
    {
     "name": "stdout",
     "output_type": "stream",
     "text": [
      "-120\n",
      "-110\n",
      "-100\n",
      "-90\n",
      "-80\n",
      "-70\n",
      "-60\n",
      "-50\n",
      "-40\n",
      "-30\n",
      "-20\n",
      "-10\n",
      "0\n",
      "10\n",
      "20\n",
      "30\n",
      "40\n",
      "50\n",
      "60\n",
      "70\n",
      "80\n",
      "90\n",
      "100\n",
      "110\n",
      "120\n",
      "Total number of (kx, kz) unstable locations: 110 \n"
     ]
    }
   ],
   "source": [
    "unstable_kx_kz_all = np.zeros((int(nx*(nz-1)), 2), dtype=np.int64)\n",
    "counting = 0\n",
    "\n",
    "gamma_mat = np.zeros((int(nx), int(nz-1), 4), dtype=np.complex128)\n",
    "eigvec_mat = np.zeros((int(nx), int(nz-1), 4, 4), dtype=np.complex128)\n",
    "inv_eigvec_mat = np.zeros((int(nx), int(nz-1), 4, 4), dtype=np.complex128)\n",
    "\n",
    "for kx_mode_no in range(-int(nx/2), int(nx/2)):\n",
    "    for kz_mode_no in range(-int(nz/2), int(nz/2)):\n",
    "        kx = kx_mode_no*2*np.pi/Lx\n",
    "        kz = kz_mode_no*2*np.pi/Lz\n",
    "        k = np.sqrt(kx**2 + kz**2)\n",
    "        \n",
    "        if (kx_mode_no==0 and kz_mode_no==0):\n",
    "            2+2\n",
    "        else:\n",
    "\n",
    "            ########################################################\n",
    "            #LX = gamma* X problem is being solved below 4 x 4 matrix EVP with state vector: [ux, uy, uz, theta]. This is done bcoz, for kx=0, there is a NaN in the matrix enrty for 3x3 matrix EVP with [uy, uz, theta].\n",
    "            L11 = -nu*(k**2) \n",
    "            L12 = 2*Omega*(kz**2)/(k**2)\n",
    "            L13 = 0\n",
    "            L14 = (kz**2)/(k**2)\n",
    "\n",
    "            L21 = d\n",
    "            L22 = -nu*(k**2) \n",
    "            L23 = 0\n",
    "            L24 = 0\n",
    "\n",
    "            L31 = 0\n",
    "            L32 = -2*Omega*kx*kz/(k**2)\n",
    "            L33 = -nu*(k**2)\n",
    "            L34 = -kx*kz/(k**2)\n",
    "\n",
    "            L41 = e\n",
    "            L42 = 0\n",
    "            L43 = 0\n",
    "            L44 =  -kappa*(k**2)\n",
    "\n",
    "            L = np.array([[L11, L12, L13, L14], [L21, L22, L23, L24], [L31, L32, L33, L34], [L41, L42, L43, L44]])\n",
    "\n",
    "            [gamma, eigvec] = linalg.eig(L)\n",
    "            \n",
    "            ######################################\n",
    "            ######################################\n",
    "            ######################################\n",
    "            #Using kinetic energy norm to normalize the eigenmodes (Nov. 23, 2022), and also made the compressible (nonexistent) mode as the 4th column for each (kx, kz).\n",
    "            \n",
    "            for ii in range(0, 4, 1):\n",
    "                if ii == (np.where(gamma==( -nu*(k**2) ) )[0][0]):\n",
    "                    2+2 #Do nothing, because inversion of that compressible mode is inconsistent and can produce nan, so do not normalize with the factor \"zero.\"\n",
    "                else:\n",
    "                    energy_norm = (np.abs(eigvec[0, ii]))**2 + (np.abs(eigvec[1, ii]))**2 + (np.abs(eigvec[2, ii]))**2  #ux^2 + uy^2 + uz^2, as the positive and negative spectrum is added, 1/2 gets cancelled with 2 Real of |u \\cdot u^\\ast|.\n",
    "                    if energy_norm==0:\n",
    "                        2+2\n",
    "                    else:\n",
    "                        if normalization_type=='energy_norm':\n",
    "                            eigvec[:, ii] = eigvec[:, ii]/((energy_norm)**(1/2))\n",
    "                        if normalization_type=='first_element_unity':\n",
    "                            eigvec[:, ii] = eigvec[:, ii]/(eigvec[0, ii])\n",
    "                        if normalization_type=='second_element_unity':\n",
    "                            eigvec[:, ii] = eigvec[:, ii]/(eigvec[1, ii])\n",
    "                        if normalization_type=='third_element_unity':\n",
    "                            eigvec[:, ii] = eigvec[:, ii]/(eigvec[2, ii])\n",
    "                        if normalization_type=='last_element_unity':\n",
    "                            eigvec[:, ii] = eigvec[:, ii]/(eigvec[3, ii])\n",
    "                        if normalization_type=='L2_norm':\n",
    "                            2+2 #Do nothing as the eigeenvectors are already in L2 norm.\n",
    "            \n",
    "            \n",
    "            ######################################\n",
    "            ######################################\n",
    "            ######################################\n",
    "            \n",
    "            \n",
    "            ######################################\n",
    "            #kz_mode_no=0 are zonal modes, which are already the eigenmodes. So, beta_column_vector = fourier-transformed [ux,uy,uz,th] is the eigenvector. Hence, making unity here. \n",
    "            if kz_mode_no==0:\n",
    "                eigvec_mat[kx_mode_no, kz_mode_no, :, 0] =  np.array([1,0,0,0]) #div(u)=0 gives, for ky=kz=0, ux=0. Thus, ux does not appear in uz or theta equation, everything gets uncoupled, and thus standard unit vectors.\n",
    "                eigvec_mat[kx_mode_no, kz_mode_no, :, 1] =  np.array([0,1,0,0])\n",
    "                eigvec_mat[kx_mode_no, kz_mode_no, :, 2] =  np.array([0,0,1,0])\n",
    "                eigvec_mat[kx_mode_no, kz_mode_no, :, 3] =  np.array([0,0,0,1])\n",
    "                gamma_mat[kx_mode_no, kz_mode_no, 0:3]     = -nu*(k**2)\n",
    "                gamma_mat[kx_mode_no, kz_mode_no, 3]       = -kappa*(k**2)\n",
    "\n",
    "            else:\n",
    "                ################################\n",
    "                #####Arranging the modes as unstable, stable A, stable B, pure-viscous-mode.\n",
    "                ################################\n",
    "\n",
    "                array = [0, 1, 2, 3]\n",
    "\n",
    "                if gamma.real.max()>0:\n",
    "\n",
    "                    #Storing the unstable mode in 0\n",
    "                    gamma_mat[kx_mode_no, kz_mode_no, 0] = gamma[np.where(gamma.real>0)[0][0]]\n",
    "                    eigvec_mat[kx_mode_no, kz_mode_no, :, 0] = eigvec[:, np.where(gamma.real>0)[0][0]]\n",
    "                    unstable_kx_kz_all[counting, :] = [kx_mode_no, kz_mode_no]\n",
    "                    counting = counting + 1\n",
    "\n",
    "                    #Storing the stable modes in 1--3\n",
    "                    array.remove(np.where(gamma.real>0)[0][0])\n",
    "                    gamma_mat[kx_mode_no, kz_mode_no, 1:] = gamma[array]\n",
    "                    eigvec_mat[kx_mode_no, kz_mode_no, :, 1:] = eigvec[:, array]\n",
    "\n",
    "                else:\n",
    "                    gamma_mat[kx_mode_no, kz_mode_no, :] = gamma\n",
    "                    eigvec_mat[kx_mode_no, kz_mode_no, :, :] = eigvec\n",
    "                    \n",
    "                    \n",
    "                #######Pure-viscous mode identification and storing in the last column: Dated: Mar 4, 2023\n",
    "                gamma_data_copy_1  = np.zeros(4, dtype=np.complex128)\n",
    "                gamma_data_copy_2  = np.zeros(4, dtype=np.complex128)\n",
    "                eigvec_data_copy_1 = np.zeros((4, 4), dtype=np.complex128)\n",
    "                eigvec_data_copy_2 = np.zeros((4, 4), dtype=np.complex128)\n",
    "                \n",
    "                array = [0, 1, 2, 3]\n",
    "                \n",
    "                \n",
    "                pureviscous_indx = np.argmin(np.abs( np.real(gamma_mat[kx_mode_no, kz_mode_no, :]) - (-nu*(k**2)) ))\n",
    "                gamma_data_copy_1[3]    =  gamma_mat[kx_mode_no, kz_mode_no,    pureviscous_indx]\n",
    "                eigvec_data_copy_1[:, 3]= eigvec_mat[kx_mode_no, kz_mode_no, :, pureviscous_indx]\n",
    "                \n",
    "                array.remove(pureviscous_indx)\n",
    "                gamma_data_copy_2[0:3]    =  gamma_mat[kx_mode_no, kz_mode_no,    array]\n",
    "                eigvec_data_copy_2[:, 0]= eigvec_mat[kx_mode_no, kz_mode_no, :, array[0]]\n",
    "                eigvec_data_copy_2[:, 1]= eigvec_mat[kx_mode_no, kz_mode_no, :, array[1]]\n",
    "                eigvec_data_copy_2[:, 2]= eigvec_mat[kx_mode_no, kz_mode_no, :, array[2]]\n",
    "                \n",
    "                gamma_mat[kx_mode_no, kz_mode_no, 0:3] = gamma_data_copy_2[0:3]\n",
    "                gamma_mat[kx_mode_no, kz_mode_no,   3] = gamma_data_copy_1[  3]\n",
    "                \n",
    "                eigvec_mat[kx_mode_no, kz_mode_no, :, 0:3] = eigvec_data_copy_2[:, 0:3]\n",
    "                eigvec_mat[kx_mode_no, kz_mode_no, :,   3] = eigvec_data_copy_1[:,   3]\n",
    "                \n",
    "                \n",
    "\n",
    "            ##############\n",
    "            inv_eigvec_mat[kx_mode_no, kz_mode_no, :, :] = linalg.inv(eigvec_mat[kx_mode_no, kz_mode_no, :, :])\n",
    "\n",
    "\n",
    "            \n",
    "    if kx_mode_no%10==0:\n",
    "        print(kx_mode_no)\n",
    "\n",
    "print(\"Total number of (kx, kz) unstable locations: %i \" %counting)\n",
    "\n",
    "unstable_kx_kz = unstable_kx_kz_all[0: counting, :]\n"
   ]
  },
  {
   "cell_type": "code",
   "execution_count": null,
   "id": "49434ec5-e1b4-4c25-bb0f-42de8b2ac43a",
   "metadata": {},
   "outputs": [],
   "source": []
  },
  {
   "cell_type": "markdown",
   "id": "7cda10aa-e415-4ed5-98d9-f98c33248c76",
   "metadata": {},
   "source": [
    "Single mode based QL-like transport flux is calculated in the next few cells."
   ]
  },
  {
   "cell_type": "code",
   "execution_count": 189,
   "id": "911c20c2-8ca3-490f-9139-10d0a990332b",
   "metadata": {},
   "outputs": [
    {
     "data": {
      "text/plain": [
       "(array([  3, 252]), array([0, 0]))"
      ]
     },
     "execution_count": 189,
     "metadata": {},
     "output_type": "execute_result"
    }
   ],
   "source": [
    "indices_largestgamma_QL = np.where(np.max(np.real(gamma_mat[0, :, :]))==np.real(gamma_mat[0, :, :]))\n",
    "indices_largestgamma_QL"
   ]
  },
  {
   "cell_type": "code",
   "execution_count": 190,
   "id": "d805ac72-b199-40db-9dfd-4aedaa722c13",
   "metadata": {},
   "outputs": [
    {
     "data": {
      "text/plain": [
       "array([ 0.12291969+0.j        , -0.13621195+0.14960232j,\n",
       "       -0.13621195-0.14960232j, -0.04897552+0.j        ])"
      ]
     },
     "execution_count": 190,
     "metadata": {},
     "output_type": "execute_result"
    }
   ],
   "source": [
    "gamma_QL = gamma_mat[0, indices_largestgamma_QL[0][0]]\n",
    "gamma_QL"
   ]
  },
  {
   "cell_type": "code",
   "execution_count": 191,
   "id": "bc109d5f-fa0d-4e92-ba12-f9782b5a547f",
   "metadata": {},
   "outputs": [],
   "source": [
    "kz_QL = (indices_largestgamma_QL[0][0]*2*np.pi/Lz)"
   ]
  },
  {
   "cell_type": "code",
   "execution_count": 192,
   "id": "7aaba36f-eeeb-45de-8f13-d15e0a46fbae",
   "metadata": {},
   "outputs": [
    {
     "data": {
      "text/plain": [
       "(0.1718952085748192+0j)"
      ]
     },
     "execution_count": 192,
     "metadata": {},
     "output_type": "execute_result"
    }
   ],
   "source": [
    "s_nu    = gamma_QL[0] + nu*kz_QL**2\n",
    "s_kappa = gamma_QL[0] + kappa*kz_QL**2\n",
    "s_nu"
   ]
  },
  {
   "cell_type": "code",
   "execution_count": 193,
   "id": "4e5fc4e8-08b5-4303-961a-b358796ccc2a",
   "metadata": {},
   "outputs": [
    {
     "data": {
      "text/plain": [
       "(1.2369350523774922+0j)"
      ]
     },
     "execution_count": 193,
     "metadata": {},
     "output_type": "execute_result"
    }
   ],
   "source": [
    "uxuy_QL = (S-2*Omega)/(2*s_nu) * (gamma_QL[0]/kz_QL)**2\n",
    "uxuy_QL"
   ]
  },
  {
   "cell_type": "code",
   "execution_count": 194,
   "id": "280c4f5b-e851-4d65-b3ed-842f4ddd6837",
   "metadata": {},
   "outputs": [
    {
     "data": {
      "text/plain": [
       "(-2.437321193926687+0j)"
      ]
     },
     "execution_count": 194,
     "metadata": {},
     "output_type": "execute_result"
    }
   ],
   "source": [
    "uxth_QL = - Nsqrd/(2*s_kappa) * (gamma_QL[0]/kz_QL)**2\n",
    "uxth_QL"
   ]
  },
  {
   "cell_type": "markdown",
   "id": "c06ede4c-2e1a-48bb-96a8-146f4c023ff4",
   "metadata": {},
   "source": [
    "QL flux calculatioin is now complete"
   ]
  },
  {
   "cell_type": "code",
   "execution_count": null,
   "id": "1eb84120-a205-44fa-a7f3-218d040f1cbf",
   "metadata": {},
   "outputs": [],
   "source": []
  },
  {
   "cell_type": "code",
   "execution_count": 195,
   "id": "5dbd8dd6-218c-45b8-96c8-a1e325698583",
   "metadata": {},
   "outputs": [
    {
     "data": {
      "text/plain": [
       "0.9999999999999999"
      ]
     },
     "execution_count": 195,
     "metadata": {},
     "output_type": "execute_result"
    }
   ],
   "source": [
    "d_parameter = (nu*kappa/Nsqrd)**(1/4)\n",
    "d_parameter"
   ]
  },
  {
   "cell_type": "code",
   "execution_count": 196,
   "id": "4cecece7-cfbc-4c8f-af53-bbaaf09f12ce",
   "metadata": {},
   "outputs": [],
   "source": [
    "kmin = (2*np.pi/Lx)\n",
    "kmin\n",
    "\n",
    "def nonlinearity(ux_mm, uy_mm, uz_mm, th_mm, ux_nn, uy_nn, uz_nn, th_nn, kx_ind, kz_ind, kx_pp_ind, kz_pp_ind):\n",
    "    \n",
    "    u_dotgrad_ux = ux_mm*(1.0j*kx_pp_ind*kmin)*ux_nn + uz_mm*(1.0j*kz_pp_ind*kmin)*ux_nn \n",
    "    u_dotgrad_uy = ux_mm*(1.0j*kx_pp_ind*kmin)*uy_nn + uz_mm*(1.0j*kz_pp_ind*kmin)*uy_nn \n",
    "    u_dotgrad_uz = ux_mm*(1.0j*kx_pp_ind*kmin)*uz_nn + uz_mm*(1.0j*kz_pp_ind*kmin)*uz_nn \n",
    "    u_dotgrad_th = ux_mm*(1.0j*kx_pp_ind*kmin)*th_nn + uz_mm*(1.0j*kz_pp_ind*kmin)*th_nn \n",
    "    \n",
    "    if (kx_ind**2 + kz_ind**2)==0:\n",
    "        pressure_NL=0\n",
    "    else:\n",
    "        pressure_NL = ((1.0j*kx_ind*kmin)*u_dotgrad_ux + (1.0j*kz_ind*kmin)*u_dotgrad_uz)/((kx_ind**2 + kz_ind**2)*kmin**2)\n",
    "    \n",
    "    complete_state_NL = (-1)*np.array([u_dotgrad_ux + 1.0j*kx_ind*kmin*pressure_NL, \n",
    "                                       u_dotgrad_uy, \n",
    "                                       u_dotgrad_uz + 1.0j*kz_ind*kmin*pressure_NL, \n",
    "                                       u_dotgrad_th])\n",
    "    return complete_state_NL\n",
    "    "
   ]
  },
  {
   "cell_type": "code",
   "execution_count": 197,
   "id": "a5e11054-5f02-4377-8f7d-0353e0dfa9f0",
   "metadata": {},
   "outputs": [],
   "source": [
    "#Take a very large network, like -15 to +15 so that, when I compute k''=k-k' will be sensible even if k and k' are for a special case k-k'=-10-(10)=-20, \n",
    "#for which I will ahve stored the coupling coefficent. Thus, anything outside of the box with abs(k, k', or k'')=10 or so will be untrustworthy \n",
    "#but inside that abs()=10 can be trusted.  In the actual analysis, I will be using a small box of -5 to +5 in kx and -5 to +5 in kz, or so.\n",
    "\n",
    "k_safe_large_twice_bigger_than_max_k_used_in_closure_mode_amplitude = int(2.1*np.max(np.abs(unstable_kx_kz))) #I have now chosen 3 as it turns out any number beyond 2.00001 \n",
    "#is fine and does not affect the later calculations as |beta|^2 are found within a square region with half of this presceribed number.\n",
    "\n",
    "kx_negative_max   = -k_safe_large_twice_bigger_than_max_k_used_in_closure_mode_amplitude\n",
    "kz_negative_max   = -k_safe_large_twice_bigger_than_max_k_used_in_closure_mode_amplitude\n",
    "kx_positive_max   =  k_safe_large_twice_bigger_than_max_k_used_in_closure_mode_amplitude\n",
    "kz_positive_max   =  k_safe_large_twice_bigger_than_max_k_used_in_closure_mode_amplitude\n",
    "\n",
    "kx_p_negative_max = -k_safe_large_twice_bigger_than_max_k_used_in_closure_mode_amplitude\n",
    "kz_p_negative_max = -k_safe_large_twice_bigger_than_max_k_used_in_closure_mode_amplitude\n",
    "kx_p_positive_max =  k_safe_large_twice_bigger_than_max_k_used_in_closure_mode_amplitude\n",
    "kz_p_positive_max =  k_safe_large_twice_bigger_than_max_k_used_in_closure_mode_amplitude\n"
   ]
  },
  {
   "cell_type": "code",
   "execution_count": 199,
   "id": "53f34fd1-823e-4ad7-84e9-3a6758f6c8f2",
   "metadata": {},
   "outputs": [],
   "source": [
    "#type_of_saturation_theory = 'all_zonal_all'           # Options are 'unstable_zonal_unstable' and 'all_zonal_all'\n",
    "type_of_saturation_theory = 'unstable_zonal_unstable' # Options are 'unstable_zonal_unstable' and 'all_zonal_all'\n"
   ]
  },
  {
   "cell_type": "code",
   "execution_count": 200,
   "id": "5409ac47-4383-4a31-894d-d0c504d08f83",
   "metadata": {},
   "outputs": [],
   "source": [
    "zonal_kx = 1\n",
    "\n",
    "\n",
    "\n",
    "\n",
    "#Choose 1 first---for low shear parameter cases that is fine. Then if needed change to 2 , then 3, ...\n",
    "#This is the Fourier mode number of the zonal flow which is coupled with other eigenmodes."
   ]
  },
  {
   "cell_type": "code",
   "execution_count": 201,
   "id": "67d9377d-65e3-44b0-999a-d4420044ba17",
   "metadata": {},
   "outputs": [],
   "source": [
    "C_coeff = np.zeros((3,3,3,(kx_positive_max-kx_negative_max+1), (kz_positive_max-kz_negative_max+1), (kx_p_positive_max-kx_p_negative_max+1), (kz_p_positive_max-kz_p_negative_max+1)), dtype=np.complex128)\n",
    "#Because I have now arranged eigvec_mat such that the last fourth mode is a pure viscous mode, that has zero projection because it is compressbile, non-realizable.\n",
    "\n",
    "\n",
    "C_coeff_symm = 0*C_coeff \n"
   ]
  },
  {
   "cell_type": "code",
   "execution_count": 202,
   "id": "97b963bf-6c4d-4d37-94ed-13d4d2f9d0ad",
   "metadata": {},
   "outputs": [],
   "source": [
    "betasquared_all_in_a_mat = np.zeros((kx_positive_max+1, int(kz_positive_max/2)+1, nx), dtype=np.float64)"
   ]
  },
  {
   "cell_type": "code",
   "execution_count": 203,
   "id": "3c0a85d5-d6a4-48c1-ae7e-f7d43993a280",
   "metadata": {},
   "outputs": [],
   "source": [
    "def C_coeff_intermediate_step(counter, jj, mm, nn):\n",
    "    for kx_ind in range(kx_negative_max, kx_positive_max+1):\n",
    "        for kx_p_ind in range(kx_p_negative_max, kx_p_positive_max+1):\n",
    "            for kz_ind in range(kz_negative_max, kz_positive_max+1):\n",
    "                for kz_p_ind in range(kz_p_negative_max, kz_p_positive_max+1):\n",
    "\n",
    "                    kx_pp_ind = kx_ind - kx_p_ind\n",
    "                    kz_pp_ind = kz_ind - kz_p_ind\n",
    "\n",
    "                    if counter==0:\n",
    "                        if ((kx_ind==kx_p_ind+zonal_kx) or (kx_ind==kx_p_ind-zonal_kx)) and (kz_ind==kz_p_ind+0):\n",
    "                            calc_should_proceed = True\n",
    "                        else:\n",
    "                            calc_should_proceed = False\n",
    "\n",
    "                    if counter==1:\n",
    "                        if ((kx_ind==zonal_kx+kx_pp_ind) or (kx_ind==-zonal_kx+kx_pp_ind)) and (kz_ind==0+kz_pp_ind):\n",
    "                            calc_should_proceed = True\n",
    "                        else:\n",
    "                            calc_should_proceed = False\n",
    "\n",
    "                    if counter==2:\n",
    "                        if ((zonal_kx==kx_p_ind+kx_pp_ind) or (-zonal_kx==kx_p_ind+kx_pp_ind)) and (0==kz_p_ind+kz_pp_ind):\n",
    "                            calc_should_proceed = True\n",
    "                        else:\n",
    "                            calc_should_proceed = False\n",
    "\n",
    "                    if calc_should_proceed == True:\n",
    "                        ux_mm = eigvec_mat[kx_p_ind,  kz_p_ind,  0, mm]\n",
    "                        uy_mm = eigvec_mat[kx_p_ind,  kz_p_ind,  1, mm]\n",
    "                        uz_mm = eigvec_mat[kx_p_ind,  kz_p_ind,  2, mm]\n",
    "                        th_mm = eigvec_mat[kx_p_ind,  kz_p_ind,  3, mm]\n",
    "\n",
    "                        ux_nn = eigvec_mat[kx_pp_ind, kz_pp_ind, 0, nn]\n",
    "                        uy_nn = eigvec_mat[kx_pp_ind, kz_pp_ind, 1, nn]\n",
    "                        uz_nn = eigvec_mat[kx_pp_ind, kz_pp_ind, 2, nn]\n",
    "                        th_nn = eigvec_mat[kx_pp_ind, kz_pp_ind, 3, nn]\n",
    "\n",
    "                        C_coeff[jj, mm, nn, kx_ind, kz_ind, kx_p_ind, kz_p_ind] = np.dot(inv_eigvec_mat[kx_ind, kz_ind, :, jj], \n",
    "                                                                                                nonlinearity(ux_mm, uy_mm, uz_mm, th_mm, ux_nn, uy_nn, uz_nn, th_nn, kx_ind, kz_ind, kx_pp_ind, kz_pp_ind))\n",
    "\n",
    "        if kx_ind%20==0:\n",
    "            print(r\"jj: %i, mm:%i, nn:%i, kx_ind:%i\" %(jj, mm, nn, kx_ind))\n",
    "\n"
   ]
  },
  {
   "cell_type": "code",
   "execution_count": 204,
   "id": "af8cf88b-29b5-4123-a49d-d9bd13e60873",
   "metadata": {},
   "outputs": [],
   "source": [
    "def C_coeff_symm_intermediate_step(counter, jj, mm, nn):\n",
    "    for kx_ind in range(kx_negative_max, kx_positive_max+1):\n",
    "        for kx_p_ind in range(kx_p_negative_max, kx_p_positive_max+1):\n",
    "            for kz_ind in range(kz_negative_max, kz_positive_max+1):\n",
    "                for kz_p_ind in range(kz_p_negative_max, kz_p_positive_max+1):\n",
    "\n",
    "                    kx_pp_ind = kx_ind - kx_p_ind\n",
    "                    kz_pp_ind = kz_ind - kz_p_ind\n",
    "\n",
    "\n",
    "                    if counter==0:\n",
    "                        if ((kx_ind==kx_p_ind+zonal_kx) or (kx_ind==kx_p_ind-zonal_kx)) and (kz_ind==kz_p_ind+0):\n",
    "                            calc_should_proceed = True\n",
    "                        else:\n",
    "                            calc_should_proceed = False\n",
    "\n",
    "                    if counter==1:\n",
    "                        if ((kx_ind==zonal_kx+kx_pp_ind) or (kx_ind==-zonal_kx+kx_pp_ind)) and (kz_ind==0+kz_pp_ind):\n",
    "                            calc_should_proceed = True\n",
    "                        else:\n",
    "                            calc_should_proceed = False\n",
    "\n",
    "                    if counter==2:\n",
    "                        if ((zonal_kx==kx_p_ind+kx_pp_ind) or (-zonal_kx==kx_p_ind+kx_pp_ind)) and (0==kz_p_ind+kz_pp_ind):\n",
    "                            calc_should_proceed = True\n",
    "                        else:\n",
    "                            calc_should_proceed = False\n",
    "\n",
    "                    if calc_should_proceed == True:\n",
    "                        C_coeff_symm[jj, mm, nn, kx_ind, kz_ind, kx_p_ind, kz_p_ind] = ( C_coeff[jj, mm, nn, kx_ind, kz_ind, kx_p_ind,  kz_p_ind] \n",
    "                                                                                       + C_coeff[jj, nn, mm, kx_ind, kz_ind, kx_pp_ind, kz_pp_ind] )\n",
    "\n",
    "\n",
    "        if kx_ind%20==0:\n",
    "            print(r\"jj: %i, mm:%i, nn:%i, kx_ind:%i\" %(jj, mm, nn, kx_ind))\n",
    "\n"
   ]
  },
  {
   "cell_type": "code",
   "execution_count": 205,
   "id": "369436eb-2436-413a-8a1c-9a869f42dfb5",
   "metadata": {},
   "outputs": [
    {
     "name": "stdout",
     "output_type": "stream",
     "text": [
      "jj: 0, mm:0, nn:2, kx_ind:0\n",
      "jj: 0, mm:2, nn:0, kx_ind:0\n",
      "jj: 2, mm:0, nn:0, kx_ind:0\n"
     ]
    }
   ],
   "source": [
    "\n",
    "##################################################################################################################\n",
    "##################################################################################################################\n",
    "##################################################################################################################\n",
    "if type_of_saturation_theory == 'unstable_zonal_unstable':\n",
    "    for counter in range(0,3):\n",
    "        if counter==0:\n",
    "            nn = 2 #Here zonal (uz) wavenumber is k''. #jj, mm, nn are at wavenumbers k, k', and k''.\n",
    "            jj, mm = 0, 0\n",
    "        if counter==1:\n",
    "            mm = 2 #Here zonal (uz) wavenumber is k'. #jj, mm, nn are at wavenumbers k, k', and k''.\n",
    "            jj, nn = 0, 0\n",
    "        if counter==2:\n",
    "            jj = 2 #Here zonal (uz) wavenumber is k. #jj, mm, nn are at wavenumbers k, k', and k''.\n",
    "            mm, nn = 0, 0\n",
    "\n",
    "        C_coeff_intermediate_step(counter, jj, mm, nn)\n",
    "    \n",
    "    \n",
    "##################################################################################################################\n",
    "##################################################################################################################\n",
    "##################################################################################################################\n",
    "if type_of_saturation_theory == 'all_zonal_all':\n",
    "    for counter in range(0,3):\n",
    "        if counter==0:\n",
    "            nn = 2 #Here zonal (uz) wavenumber is k''. #jj, mm, nn are at wavenumbers k, k', and k''.\n",
    "            for jj in range(0,3):\n",
    "                for mm in range(0,3):\n",
    "                    C_coeff_intermediate_step(counter, jj, mm, nn)\n",
    "    \n",
    "            \n",
    "        if counter==1:\n",
    "            mm = 2 #Here zonal (uz) wavenumber is k'. #jj, mm, nn are at wavenumbers k, k', and k''.\n",
    "            for jj in range(0,3):\n",
    "                for nn in range(0,3):\n",
    "                    C_coeff_intermediate_step(counter, jj, mm, nn)\n",
    "                    \n",
    "                    \n",
    "        if counter==2:\n",
    "            jj = 2 #Here zonal (uz) wavenumber is k. #jj, mm, nn are at wavenumbers k, k', and k''.\n",
    "            for mm in range(0,3):\n",
    "                for nn in range(0,3):\n",
    "                    C_coeff_intermediate_step(counter, jj, mm, nn)\n",
    "\n",
    "        \n",
    "        "
   ]
  },
  {
   "cell_type": "code",
   "execution_count": 206,
   "id": "d6753574-9e80-459d-9ab0-6548fc267d38",
   "metadata": {},
   "outputs": [
    {
     "name": "stdout",
     "output_type": "stream",
     "text": [
      "jj: 0, mm:0, nn:2, kx_ind:0\n",
      "jj: 0, mm:2, nn:0, kx_ind:0\n",
      "jj: 2, mm:0, nn:0, kx_ind:0\n"
     ]
    }
   ],
   "source": [
    "##############################  \n",
    "#Symmetrized C should be found after C is fully filled in. Otherwise, some zeros can be added and it is only around half of symmetrizex C for some Cs. This is avoided now.\n",
    "\n",
    "\n",
    "##################################################################################################################\n",
    "##################################################################################################################\n",
    "##################################################################################################################\n",
    "if type_of_saturation_theory == 'unstable_zonal_unstable':\n",
    "    for counter in range(0,3):\n",
    "        if counter==0:\n",
    "            nn = 2 #Here zonal (uz) wavenumber is k''. #jj, mm, nn are at wavenumbers k, k', and k''.\n",
    "            jj, mm = 0, 0\n",
    "        if counter==1:\n",
    "            mm = 2 #Here zonal (uz) wavenumber is k'. #jj, mm, nn are at wavenumbers k, k', and k''.\n",
    "            jj, nn = 0, 0\n",
    "        if counter==2:\n",
    "            jj = 2 #Here zonal (uz) wavenumber is k. #jj, mm, nn are at wavenumbers k, k', and k''.\n",
    "            mm, nn = 0, 0\n",
    "\n",
    "        C_coeff_symm_intermediate_step(counter, jj, mm, nn)\n",
    "    \n",
    "    \n",
    "##################################################################################################################\n",
    "##################################################################################################################\n",
    "##################################################################################################################\n",
    "if type_of_saturation_theory == 'all_zonal_all':\n",
    "    for counter in range(0,3):\n",
    "        if counter==0:\n",
    "            nn = 2 #Here zonal (uz) wavenumber is k''. #jj, mm, nn are at wavenumbers k, k', and k''.\n",
    "            for jj in range(0,3):\n",
    "                for mm in range(0,3):\n",
    "                    C_coeff_symm_intermediate_step(counter, jj, mm, nn)\n",
    "    \n",
    "            \n",
    "        if counter==1:\n",
    "            mm = 2 #Here zonal (uz) wavenumber is k'. #jj, mm, nn are at wavenumbers k, k', and k''.\n",
    "            for jj in range(0,3):\n",
    "                for nn in range(0,3):\n",
    "                    C_coeff_symm_intermediate_step(counter, jj, mm, nn)\n",
    "                    \n",
    "                    \n",
    "        if counter==2:\n",
    "            jj = 2 #Here zonal (uz) wavenumber is k. #jj, mm, nn are at wavenumbers k, k', and k''.\n",
    "            for mm in range(0,3):\n",
    "                for nn in range(0,3):\n",
    "                    C_coeff_symm_intermediate_step(counter, jj, mm, nn)\n",
    "\n",
    "    "
   ]
  },
  {
   "cell_type": "code",
   "execution_count": null,
   "id": "2beda877-a826-4655-b674-591ff9645afb",
   "metadata": {},
   "outputs": [],
   "source": []
  },
  {
   "cell_type": "code",
   "execution_count": null,
   "id": "e3b2d00f-9531-45d5-88e0-7dc61a107109",
   "metadata": {},
   "outputs": [],
   "source": []
  },
  {
   "cell_type": "code",
   "execution_count": null,
   "id": "9de1fb6f-c4f4-41a2-9512-2754071310cf",
   "metadata": {},
   "outputs": [],
   "source": []
  },
  {
   "cell_type": "code",
   "execution_count": 207,
   "id": "d28ca969-6c69-4757-81c8-4a19f276b202",
   "metadata": {},
   "outputs": [
    {
     "name": "stdout",
     "output_type": "stream",
     "text": [
      "-4\n",
      "3\n"
     ]
    }
   ],
   "source": [
    "for counter in range(0, int(unstable_kx_kz.shape[0])):\n",
    "    dominant_kx, dominant_kz = unstable_kx_kz[counter, :]\n",
    "\n",
    "\n",
    "    ########################\n",
    "    ########################\n",
    "    #Finding the mode-amplitude |\\beta|^2 for the mode (kx=\\pm dominant_kx, kz=\\pm dominant_kx), which has largest contribution in the eigenvector above, eigvec[46, 84].\n",
    "    ########################\n",
    "    ########################\n",
    "    expression = 0\n",
    "\n",
    "    kx_ind = zonal_kx\n",
    "    kz_ind = 0\n",
    "\n",
    "    \n",
    "    ###########################################\n",
    "    ###########################################\n",
    "    ###########################################\n",
    "    Eigmod_Ind = 0 #This represents the two zeros modes, or to be precise, two unstable modes interacting with a zonal mode.\n",
    "    factor = 1.00\n",
    "    \n",
    "    #______________________________________________________________________\n",
    "    kx_pp_ind  =  dominant_kx #Defined w.r.t to beta'', appearing in the closure. \n",
    "    kz_pp_ind  =  dominant_kz\n",
    "\n",
    "    kx_p_ind = kx_ind - kx_pp_ind\n",
    "    kz_p_ind = kz_ind - kz_pp_ind\n",
    "    C_unsymm  = C_coeff[2, Eigmod_Ind, Eigmod_Ind, kx_ind,    kz_ind,     kx_p_ind,  kz_p_ind]\n",
    "    C_symm    = C_coeff_symm[Eigmod_Ind, 2, Eigmod_Ind, kx_p_ind,  kz_p_ind,   kx_ind,    kz_ind  ] \n",
    "    gamma_sum = gamma_mat[kx_p_ind, kz_p_ind, Eigmod_Ind] + gamma_mat[kx_pp_ind, kz_pp_ind, Eigmod_Ind] + np.conjugate(gamma_mat[kx_ind, kz_ind, 2])\n",
    "    expression= expression + np.real(1.0j*C_unsymm*C_symm/gamma_sum)*factor\n",
    "    #______________________________________________________________________\n",
    "    kx_pp_ind  = -dominant_kx #Defined for the hermitian conjugation mode. (kx=\\pm dominant_kx, kz=\\pm dominant_kx)\n",
    "    kz_pp_ind  = -dominant_kz\n",
    "\n",
    "    kx_p_ind = kx_ind - kx_pp_ind\n",
    "    kz_p_ind = kz_ind - kz_pp_ind\n",
    "    C_unsymm  = C_coeff[2, Eigmod_Ind, Eigmod_Ind, kx_ind,    kz_ind,     kx_p_ind,  kz_p_ind]\n",
    "    C_symm    = C_coeff_symm[Eigmod_Ind, 2, Eigmod_Ind, kx_p_ind,  kz_p_ind,   kx_ind,    kz_ind  ] \n",
    "    gamma_sum = gamma_mat[kx_p_ind, kz_p_ind, Eigmod_Ind] + gamma_mat[kx_pp_ind, kz_pp_ind, Eigmod_Ind] + np.conjugate(gamma_mat[kx_ind, kz_ind, 2])\n",
    "    expression= expression + np.real(1.0j*C_unsymm*C_symm/gamma_sum)*factor\n",
    "    #______________________________________________________________________\n",
    "    kx_p_ind  =  dominant_kx #Defined w.r.t to beta, appearing in the closure. \n",
    "    kz_p_ind  =  dominant_kz\n",
    "\n",
    "    kx_pp_ind  = kx_ind - kx_p_ind\n",
    "    kz_pp_ind  = kz_ind - kz_p_ind\n",
    "    C_unsymm  = C_coeff[2, Eigmod_Ind, Eigmod_Ind, kx_ind,    kz_ind,     kx_p_ind,  kz_p_ind]\n",
    "    C_symm    = C_coeff_symm[Eigmod_Ind, 2, Eigmod_Ind, kx_pp_ind, kz_pp_ind,  kx_ind,    kz_ind  ] \n",
    "    gamma_sum = gamma_mat[kx_p_ind, kz_p_ind, Eigmod_Ind] + gamma_mat[kx_pp_ind, kz_pp_ind, Eigmod_Ind] + np.conjugate(gamma_mat[kx_ind, kz_ind, 2])\n",
    "    expression= expression + np.real(1.0j*C_unsymm*C_symm/gamma_sum)*factor\n",
    "    #______________________________________________________________________\n",
    "    kx_p_ind  =  -dominant_kx\n",
    "    kz_p_ind  =   dominant_kz\n",
    "\n",
    "    kx_pp_ind  = kx_ind - kx_p_ind\n",
    "    kz_pp_ind  = kz_ind - kz_p_ind\n",
    "    C_unsymm  = C_coeff[2, Eigmod_Ind, Eigmod_Ind, kx_ind,    kz_ind,     kx_p_ind,  kz_p_ind]\n",
    "    C_symm    = C_coeff_symm[Eigmod_Ind, 2, Eigmod_Ind, kx_pp_ind, kz_pp_ind,  kx_ind,    kz_ind  ] \n",
    "    gamma_sum = gamma_mat[kx_p_ind, kz_p_ind, Eigmod_Ind] + gamma_mat[kx_pp_ind, kz_pp_ind, Eigmod_Ind] + np.conjugate(gamma_mat[kx_ind, kz_ind, 2])\n",
    "    expression= expression + np.real(1.0j*C_unsymm*C_symm/gamma_sum)*factor\n",
    "    \n",
    "    \n",
    "    ############################################################\n",
    "    ############################################################\n",
    "    ############################################################\n",
    "    if type_of_saturation_theory == 'all_zonal_all': #'unstable_zonal_unstable_AND_stable_zonal_stable':\n",
    "        \n",
    "        ###########################################\n",
    "        ###########################################\n",
    "        ###########################################\n",
    "        Eigmod_Ind = 1 #This represents the two 1 modes, or to be precise, two stable modes, no matter what type, \n",
    "        #I will be taking self-conjugate product to get |beta_j'|^2 and use j=1 once and then j=2 next. As long as those two modes, with asterisk \n",
    "        #and without are used they leave no phase information and I am good with that. The amplitdues, I then express, as \n",
    "        #      np.abs(np.real(\\gamma_1)) |beta_1|^2 = np.abs(np.real(\\gamma_2)) |beta_2|^2 = 1/2 * \\gamma_0 |\\beta_0|^2;\n",
    "        #I am using the principle of equipartition of dissipation energy by the stable modes, prallely, unlike a serial cascade and dissipation at small scales\n",
    "        #Based on PoP, Terry et al.--- Mode-space energy in gyrokinetic turbulence...\n",
    "        \n",
    "        factor = 1/2 * np.abs(np.real(gamma_mat[dominant_kx, dominant_kz, 0])) / np.abs(np.real(gamma_mat[dominant_kx, dominant_kz, Eigmod_Ind]))\n",
    "\n",
    "        #______________________________________________________________________\n",
    "        kx_pp_ind  =  dominant_kx #Defined w.r.t to beta'', appearing in the closure. \n",
    "        kz_pp_ind  =  dominant_kz\n",
    "\n",
    "        kx_p_ind = kx_ind - kx_pp_ind\n",
    "        kz_p_ind = kz_ind - kz_pp_ind\n",
    "        C_unsymm  = C_coeff[2, Eigmod_Ind, Eigmod_Ind, kx_ind,    kz_ind,     kx_p_ind,  kz_p_ind]\n",
    "        C_symm    = C_coeff_symm[Eigmod_Ind, 2, Eigmod_Ind, kx_p_ind,  kz_p_ind,   kx_ind,    kz_ind  ] \n",
    "        gamma_sum = gamma_mat[kx_p_ind, kz_p_ind, Eigmod_Ind] + gamma_mat[kx_pp_ind, kz_pp_ind, Eigmod_Ind] + np.conjugate(gamma_mat[kx_ind, kz_ind, 2])\n",
    "        expression= expression + np.real(1.0j*C_unsymm*C_symm/gamma_sum)*factor\n",
    "        #______________________________________________________________________\n",
    "        kx_pp_ind  = -dominant_kx #Defined for the hermitian conjugation mode. (kx=\\pm dominant_kx, kz=\\pm dominant_kx)\n",
    "        kz_pp_ind  = -dominant_kz\n",
    "\n",
    "        kx_p_ind = kx_ind - kx_pp_ind\n",
    "        kz_p_ind = kz_ind - kz_pp_ind\n",
    "        C_unsymm  = C_coeff[2, Eigmod_Ind, Eigmod_Ind, kx_ind,    kz_ind,     kx_p_ind,  kz_p_ind]\n",
    "        C_symm    = C_coeff_symm[Eigmod_Ind, 2, Eigmod_Ind, kx_p_ind,  kz_p_ind,   kx_ind,    kz_ind  ] \n",
    "        gamma_sum = gamma_mat[kx_p_ind, kz_p_ind, Eigmod_Ind] + gamma_mat[kx_pp_ind, kz_pp_ind, Eigmod_Ind] + np.conjugate(gamma_mat[kx_ind, kz_ind, 2])\n",
    "        expression= expression + np.real(1.0j*C_unsymm*C_symm/gamma_sum)*factor\n",
    "        #______________________________________________________________________\n",
    "        kx_p_ind  =  dominant_kx #Defined w.r.t to beta, appearing in the closure. \n",
    "        kz_p_ind  =  dominant_kz\n",
    "\n",
    "        kx_pp_ind  = kx_ind - kx_p_ind\n",
    "        kz_pp_ind  = kz_ind - kz_p_ind\n",
    "        C_unsymm  = C_coeff[2, Eigmod_Ind, Eigmod_Ind, kx_ind,    kz_ind,     kx_p_ind,  kz_p_ind]\n",
    "        C_symm    = C_coeff_symm[Eigmod_Ind, 2, Eigmod_Ind, kx_pp_ind, kz_pp_ind,  kx_ind,    kz_ind  ] \n",
    "        gamma_sum = gamma_mat[kx_p_ind, kz_p_ind, Eigmod_Ind] + gamma_mat[kx_pp_ind, kz_pp_ind, Eigmod_Ind] + np.conjugate(gamma_mat[kx_ind, kz_ind, 2])\n",
    "        expression= expression + np.real(1.0j*C_unsymm*C_symm/gamma_sum)*factor\n",
    "        #______________________________________________________________________\n",
    "        kx_p_ind  =  -dominant_kx\n",
    "        kz_p_ind  =   dominant_kz\n",
    "\n",
    "        kx_pp_ind  = kx_ind - kx_p_ind\n",
    "        kz_pp_ind  = kz_ind - kz_p_ind\n",
    "        C_unsymm  = C_coeff[2, Eigmod_Ind, Eigmod_Ind, kx_ind,    kz_ind,     kx_p_ind,  kz_p_ind]\n",
    "        C_symm    = C_coeff_symm[Eigmod_Ind, 2, Eigmod_Ind, kx_pp_ind, kz_pp_ind,  kx_ind,    kz_ind  ] \n",
    "        gamma_sum = gamma_mat[kx_p_ind, kz_p_ind, Eigmod_Ind] + gamma_mat[kx_pp_ind, kz_pp_ind, Eigmod_Ind] + np.conjugate(gamma_mat[kx_ind, kz_ind, 2])\n",
    "        expression= expression + np.real(1.0j*C_unsymm*C_symm/gamma_sum)*factor\n",
    "\n",
    "\n",
    "\n",
    "        ###########################################\n",
    "        ###########################################\n",
    "        ###########################################\n",
    "        Eigmod_Ind = 2 #This represents the two 1 modes, or to be precise, two stable modes, no matter what type, \n",
    "        #I will be taking self-conjugate product to get |beta_j'|^2 and use j=1 once and then j=2 next. As long as those two modes, with asterisk \n",
    "        #and without are used they leave no phase information and I am good with that. The amplitdues, I then express, as \n",
    "        #      np.abs(np.real(\\gamma_1)) |beta_1|^2 = np.abs(np.real(\\gamma_2)) |beta_2|^2 = 1/2 * \\gamma_0 |\\beta_0|^2;\n",
    "        #I am using the principle of equipartition of dissipation energy by the stable modes, prallely, unlike a serial cascade and dissipation at small scales\n",
    "        #Based on PoP, Terry et al.--- Mode-space energy in gyrokinetic turbulence...\n",
    "        \n",
    "        factor = 1/2 * np.abs(np.real(gamma_mat[dominant_kx, dominant_kz, 0])) / np.abs(np.real(gamma_mat[dominant_kx, dominant_kz, Eigmod_Ind]))\n",
    "\n",
    "        #______________________________________________________________________\n",
    "        kx_pp_ind  =  dominant_kx #Defined w.r.t to beta'', appearing in the closure. \n",
    "        kz_pp_ind  =  dominant_kz\n",
    "\n",
    "        kx_p_ind = kx_ind - kx_pp_ind\n",
    "        kz_p_ind = kz_ind - kz_pp_ind\n",
    "        C_unsymm  = C_coeff[2, Eigmod_Ind, Eigmod_Ind, kx_ind,    kz_ind,     kx_p_ind,  kz_p_ind]\n",
    "        C_symm    = C_coeff_symm[Eigmod_Ind, 2, Eigmod_Ind, kx_p_ind,  kz_p_ind,   kx_ind,    kz_ind  ] \n",
    "        gamma_sum = gamma_mat[kx_p_ind, kz_p_ind, Eigmod_Ind] + gamma_mat[kx_pp_ind, kz_pp_ind, Eigmod_Ind] + np.conjugate(gamma_mat[kx_ind, kz_ind, 2])\n",
    "        expression= expression + np.real(1.0j*C_unsymm*C_symm/gamma_sum)*factor\n",
    "        #______________________________________________________________________\n",
    "        kx_pp_ind  = -dominant_kx #Defined for the hermitian conjugation mode. (kx=\\pm dominant_kx, kz=\\pm dominant_kx)\n",
    "        kz_pp_ind  = -dominant_kz\n",
    "\n",
    "        kx_p_ind = kx_ind - kx_pp_ind\n",
    "        kz_p_ind = kz_ind - kz_pp_ind\n",
    "        C_unsymm  = C_coeff[2, Eigmod_Ind, Eigmod_Ind, kx_ind,    kz_ind,     kx_p_ind,  kz_p_ind]\n",
    "        C_symm    = C_coeff_symm[Eigmod_Ind, 2, Eigmod_Ind, kx_p_ind,  kz_p_ind,   kx_ind,    kz_ind  ] \n",
    "        gamma_sum = gamma_mat[kx_p_ind, kz_p_ind, Eigmod_Ind] + gamma_mat[kx_pp_ind, kz_pp_ind, Eigmod_Ind] + np.conjugate(gamma_mat[kx_ind, kz_ind, 2])\n",
    "        expression= expression + np.real(1.0j*C_unsymm*C_symm/gamma_sum)*factor\n",
    "        #______________________________________________________________________\n",
    "        kx_p_ind  =  dominant_kx #Defined w.r.t to beta, appearing in the closure. \n",
    "        kz_p_ind  =  dominant_kz\n",
    "\n",
    "        kx_pp_ind  = kx_ind - kx_p_ind\n",
    "        kz_pp_ind  = kz_ind - kz_p_ind\n",
    "        C_unsymm  = C_coeff[2, Eigmod_Ind, Eigmod_Ind, kx_ind,    kz_ind,     kx_p_ind,  kz_p_ind]\n",
    "        C_symm    = C_coeff_symm[Eigmod_Ind, 2, Eigmod_Ind, kx_pp_ind, kz_pp_ind,  kx_ind,    kz_ind  ] \n",
    "        gamma_sum = gamma_mat[kx_p_ind, kz_p_ind, Eigmod_Ind] + gamma_mat[kx_pp_ind, kz_pp_ind, Eigmod_Ind] + np.conjugate(gamma_mat[kx_ind, kz_ind, 2])\n",
    "        expression= expression + np.real(1.0j*C_unsymm*C_symm/gamma_sum)*factor\n",
    "        #______________________________________________________________________\n",
    "        kx_p_ind  =  -dominant_kx\n",
    "        kz_p_ind  =   dominant_kz\n",
    "\n",
    "        kx_pp_ind  = kx_ind - kx_p_ind\n",
    "        kz_pp_ind  = kz_ind - kz_p_ind\n",
    "        C_unsymm  = C_coeff[2, Eigmod_Ind, Eigmod_Ind, kx_ind,    kz_ind,     kx_p_ind,  kz_p_ind]\n",
    "        C_symm    = C_coeff_symm[Eigmod_Ind, 2, Eigmod_Ind, kx_pp_ind, kz_pp_ind,  kx_ind,    kz_ind  ] \n",
    "        gamma_sum = gamma_mat[kx_p_ind, kz_p_ind, Eigmod_Ind] + gamma_mat[kx_pp_ind, kz_pp_ind, Eigmod_Ind] + np.conjugate(gamma_mat[kx_ind, kz_ind, 2])\n",
    "        expression= expression + np.real(1.0j*C_unsymm*C_symm/gamma_sum)*factor\n",
    "\n",
    "\n",
    "\n",
    "\n",
    "    if expression!=0:\n",
    "        betasquared_all_in_a_mat[dominant_kx, dominant_kz, zonal_kx] = (-1)*np.real(gamma_mat[kx_ind, kz_ind, 2]) / expression #I have now added a minus sign to make the rhs positive, \n",
    "    #in accordance with Terry 2018 and Terry 2021 PRL.\n",
    "\n",
    "    #eigvec_betasqrd_mat_with_amp_closure_calc = np.sqrt(betasquared_all_in_a_mat[dominant_kx, dominant_kz])*eigvec_mat[dominant_kx, dominant_kz, :, 0]\n",
    "    #transport_momentum_all[dominant_kx, dominant_kz] = 2*np.real(eigvec_betasqrd_mat_with_amp_closure_calc[0]*eigvec_betasqrd_mat_with_amp_closure_calc[1]) #2 is becaus eof the spectrum is taken as u_x^\\ast u_y + u_x u_y^\\ast\n",
    "    #transport_heat_all[dominant_kx, dominant_kz]     = 2*np.real(eigvec_betasqrd_mat_with_amp_closure_calc[0]*eigvec_betasqrd_mat_with_amp_closure_calc[3]) #2 is becaus eof the spectrum is taken as u_x^\\ast u_y + u_x u_y^\\ast\n",
    "    if counter%100==0:\n",
    "        print(dominant_kx)\n",
    "        "
   ]
  },
  {
   "cell_type": "code",
   "execution_count": null,
   "id": "c7c1c84c-33cf-4a6f-83ce-69715d6ab34e",
   "metadata": {},
   "outputs": [],
   "source": []
  },
  {
   "cell_type": "code",
   "execution_count": 208,
   "id": "b85e899f-487f-4ad5-8ba0-b91a7d73d363",
   "metadata": {},
   "outputs": [
    {
     "data": {
      "text/plain": [
       "array([5.49738421, 4.5547065 , 0.96706859, 0.83662236])"
      ]
     },
     "execution_count": 208,
     "metadata": {},
     "output_type": "execute_result"
    }
   ],
   "source": [
    "betasqrd_sorted = np.sort(betasquared_all_in_a_mat[np.abs(betasquared_all_in_a_mat)<1e50])\n",
    "betasqrd_inv = 1/betasqrd_sorted[betasqrd_sorted>0]\n",
    "betasqrd_inv"
   ]
  },
  {
   "cell_type": "code",
   "execution_count": 209,
   "id": "195a3191-3171-4b45-aeda-2a584d0b82e1",
   "metadata": {},
   "outputs": [
    {
     "data": {
      "text/plain": [
       "0.08434703241974738"
      ]
     },
     "execution_count": 209,
     "metadata": {},
     "output_type": "execute_result"
    }
   ],
   "source": [
    "EDQNM_weighted_betasqrd = 1/np.sum(betasqrd_inv)\n",
    "EDQNM_weighted_betasqrd"
   ]
  },
  {
   "cell_type": "code",
   "execution_count": 210,
   "id": "58856e03-3ae8-4140-ada9-fad9351c02d0",
   "metadata": {},
   "outputs": [
    {
     "name": "stdout",
     "output_type": "stream",
     "text": [
      "-4\n",
      "3\n"
     ]
    }
   ],
   "source": [
    "\n",
    "#betasquared_all_in_a_mat = np.zeros((kx_positive_max+1, int(kz_positive_max/2)+1), dtype=np.float64)\n",
    "transport_momentum_all =  np.zeros((nx, nz-1), dtype=np.float64)\n",
    "transport_heat_all     =  np.zeros((nx, nz-1), dtype=np.float64)\n",
    "\n",
    "for counter in range(0, unstable_kx_kz.shape[0]):\n",
    "    dominant_kx, dominant_kz = unstable_kx_kz[counter, :]\n",
    "\n",
    "    eigvec_betasqrd_mat_with_amp_closure_calc = 1 * eigvec_mat[dominant_kx, dominant_kz, :, 0] #Unit amplitude\n",
    "    \n",
    "    transport_momentum_all[dominant_kx, dominant_kz] = np.real(eigvec_betasqrd_mat_with_amp_closure_calc[0]*eigvec_betasqrd_mat_with_amp_closure_calc[1]) #2 is not used in front, although that come from Hermitian symmetry, \n",
    "    #as I will add explicitly in the later cell, all +ve and -ve kx and kz modes.\n",
    "    \n",
    "    transport_heat_all[dominant_kx, dominant_kz]     = np.real(eigvec_betasqrd_mat_with_amp_closure_calc[0]*eigvec_betasqrd_mat_with_amp_closure_calc[3]) #2 is not used in front, although that come from Hermitian symmetry, \n",
    "    #as I will add explicitly in the later cell, all +ve and -ve kx and kz modes.\n",
    "    \n",
    "    if counter%100==0:\n",
    "        print(dominant_kx)\n",
    "    "
   ]
  },
  {
   "cell_type": "code",
   "execution_count": null,
   "id": "6c071708-196c-4a37-a2ae-a7dfc75f649e",
   "metadata": {},
   "outputs": [],
   "source": []
  },
  {
   "cell_type": "code",
   "execution_count": 211,
   "id": "0a38f431-3793-46fd-8814-cb21451136a6",
   "metadata": {},
   "outputs": [
    {
     "data": {
      "text/plain": [
       "0.3760426105279035"
      ]
     },
     "execution_count": 211,
     "metadata": {},
     "output_type": "execute_result"
    }
   ],
   "source": [
    "transport_momentum_all_useful = np.sort(transport_momentum_all[np.abs(transport_momentum_all)<1e50])\n",
    "predicted_Reynolds_stress = np.sum(transport_momentum_all_useful)*EDQNM_weighted_betasqrd\n",
    "predicted_Reynolds_stress"
   ]
  },
  {
   "cell_type": "code",
   "execution_count": 212,
   "id": "93c84bb6-3551-4fac-9263-d4d63be27d73",
   "metadata": {},
   "outputs": [
    {
     "data": {
      "text/plain": [
       "-0.7268735646611183"
      ]
     },
     "execution_count": 212,
     "metadata": {},
     "output_type": "execute_result"
    }
   ],
   "source": [
    "transport_heat_all_useful = np.sort(transport_heat_all[np.abs(transport_heat_all)<1e50])\n",
    "predicted_heat_flux = np.sum(transport_heat_all_useful)*EDQNM_weighted_betasqrd\n",
    "predicted_heat_flux"
   ]
  },
  {
   "cell_type": "code",
   "execution_count": null,
   "id": "a48c7731-42cf-4816-a464-b33c58ca77df",
   "metadata": {},
   "outputs": [],
   "source": []
  },
  {
   "cell_type": "code",
   "execution_count": null,
   "id": "672ca6a9-98ac-47b4-81e5-8fba234d77f8",
   "metadata": {},
   "outputs": [],
   "source": []
  }
 ],
 "metadata": {
  "kernelspec": {
   "display_name": "Python (Dedalus2)",
   "language": "python",
   "name": "dedalus2"
  },
  "language_info": {
   "codemirror_mode": {
    "name": "ipython",
    "version": 3
   },
   "file_extension": ".py",
   "mimetype": "text/x-python",
   "name": "python",
   "nbconvert_exporter": "python",
   "pygments_lexer": "ipython3",
   "version": "3.10.6"
  }
 },
 "nbformat": 4,
 "nbformat_minor": 5
}
